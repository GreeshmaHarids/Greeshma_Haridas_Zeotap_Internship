{
 "cells": [
  {
   "cell_type": "code",
   "execution_count": 1,
   "id": "a8f45c09-62e3-404c-9072-9ed232f1af87",
   "metadata": {},
   "outputs": [
    {
     "name": "stdout",
     "output_type": "stream",
     "text": [
      "\n",
      "\n"
     ]
    },
    {
     "data": {
      "text/plain": [
       "(  CustomerID        CustomerName         Region  SignupDate\n",
       " 0      C0001    Lawrence Carroll  South America  2022-07-10\n",
       " 1      C0002      Elizabeth Lutz           Asia  2022-02-13\n",
       " 2      C0003      Michael Rivera  South America  2024-03-07\n",
       " 3      C0004  Kathleen Rodriguez  South America  2022-10-09\n",
       " 4      C0005         Laura Weber           Asia  2022-08-15,\n",
       "   ProductID              ProductName     Category   Price\n",
       " 0      P001     ActiveWear Biography        Books  169.30\n",
       " 1      P002    ActiveWear Smartwatch  Electronics  346.30\n",
       " 2      P003  ComfortLiving Biography        Books   44.12\n",
       " 3      P004            BookWorld Rug   Home Decor   95.69\n",
       " 4      P005          TechPro T-Shirt     Clothing  429.31,\n",
       "   TransactionID CustomerID ProductID      TransactionDate  Quantity  \\\n",
       " 0        T00001      C0199      P067  2024-08-25 12:38:23         1   \n",
       " 1        T00112      C0146      P067  2024-05-27 22:23:54         1   \n",
       " 2        T00166      C0127      P067  2024-04-25 07:38:55         1   \n",
       " 3        T00272      C0087      P067  2024-03-26 22:55:37         2   \n",
       " 4        T00363      C0070      P067  2024-03-21 15:10:10         3   \n",
       " \n",
       "    TotalValue   Price  \n",
       " 0      300.68  300.68  \n",
       " 1      300.68  300.68  \n",
       " 2      300.68  300.68  \n",
       " 3      601.36  300.68  \n",
       " 4      902.04  300.68  )"
      ]
     },
     "execution_count": 1,
     "metadata": {},
     "output_type": "execute_result"
    }
   ],
   "source": [
    "import pandas as pd\n",
    "\n",
    "# Load the datasets\n",
    "customers_df = pd.read_csv('Customers.csv')\n",
    "print()\n",
    "products_df = pd.read_csv('Products.csv')\n",
    "print()\n",
    "transactions_df = pd.read_csv('Transactions.csv')\n",
    "\n",
    "# Check the first few rows of the data\n",
    "customers_df.head(), products_df.head(), transactions_df.head()"
   ]
  },
  {
   "cell_type": "code",
   "execution_count": 2,
   "id": "6a0e82e2-cbd3-442b-a941-39cf6cb32a64",
   "metadata": {},
   "outputs": [
    {
     "name": "stdout",
     "output_type": "stream",
     "text": [
      "<class 'pandas.core.frame.DataFrame'>\n",
      "RangeIndex: 200 entries, 0 to 199\n",
      "Data columns (total 9 columns):\n",
      " #   Column        Non-Null Count  Dtype  \n",
      "---  ------        --------------  -----  \n",
      " 0   CustomerID    200 non-null    object \n",
      " 1   CustomerName  200 non-null    object \n",
      " 2   Region        200 non-null    object \n",
      " 3   SignupDate    200 non-null    object \n",
      " 4   TotalSpend    199 non-null    float64\n",
      " 5   Books         199 non-null    float64\n",
      " 6   Clothing      199 non-null    float64\n",
      " 7   Electronics   199 non-null    float64\n",
      " 8   Home Decor    199 non-null    float64\n",
      "dtypes: float64(5), object(4)\n",
      "memory usage: 14.2+ KB\n"
     ]
    }
   ],
   "source": [
    "# Calculate total spend per customer\n",
    "total_spend = transactions_df.groupby('CustomerID')['TotalValue'].sum().reset_index()\n",
    "total_spend.rename(columns={'TotalValue': 'TotalSpend'}, inplace=True)\n",
    "\n",
    "# Merge the total spend data with customers\n",
    "customers_df = pd.merge(customers_df, total_spend, on='CustomerID', how='left')\n",
    "\n",
    "# Frequency of transactions per product category\n",
    "transaction_category_freq = transactions_df.merge(products_df, on='ProductID', how='left')\n",
    "transaction_category_freq = transaction_category_freq.groupby(['CustomerID', 'Category']).size().unstack(fill_value=0)\n",
    "\n",
    "# Merge transaction frequencies with the customer data\n",
    "customers_df = pd.merge(customers_df, transaction_category_freq, on='CustomerID', how='left')\n",
    "customers_df.info()"
   ]
  },
  {
   "cell_type": "code",
   "execution_count": 3,
   "id": "85e94949-0548-4951-934f-cda6d094ed03",
   "metadata": {},
   "outputs": [
    {
     "data": {
      "text/plain": [
       "CustomerID      0\n",
       "CustomerName    0\n",
       "Region          0\n",
       "SignupDate      0\n",
       "TotalSpend      0\n",
       "Books           0\n",
       "Clothing        0\n",
       "Electronics     0\n",
       "Home Decor      0\n",
       "dtype: int64"
      ]
     },
     "execution_count": 3,
     "metadata": {},
     "output_type": "execute_result"
    }
   ],
   "source": [
    "customers_df=customers_df.dropna()\n",
    "customers_df.isna().sum()"
   ]
  },
  {
   "cell_type": "code",
   "execution_count": 4,
   "id": "8da5d51d-5e30-4bf1-bcb4-9465a64e7716",
   "metadata": {},
   "outputs": [],
   "source": [
    "from sklearn.metrics.pairwise import cosine_similarity\n",
    "\n",
    "# Extract the features (excluding CustomerID and Region)\n",
    "feature_columns = ['TotalSpend'] + list(transaction_category_freq.columns)\n",
    "customer_features = customers_df[feature_columns]\n",
    "\n",
    "# Normalize the data (optional, but recommended for similarity measures)\n",
    "from sklearn.preprocessing import StandardScaler\n",
    "scaler = StandardScaler()\n",
    "customer_features_scaled = scaler.fit_transform(customer_features)\n",
    "\n",
    "# Compute cosine similarity\n",
    "similarity_matrix = cosine_similarity(customer_features_scaled)\n",
    "\n",
    "# Create a DataFrame with similarity scores\n",
    "similarity_df = pd.DataFrame(similarity_matrix, index=customers_df['CustomerID'], columns=customers_df['CustomerID'])\n"
   ]
  },
  {
   "cell_type": "code",
   "execution_count": 5,
   "id": "385874d4-ed21-477a-8ef1-cb56ad42c798",
   "metadata": {},
   "outputs": [],
   "source": [
    "# Function to get top 3 lookalikes for each customer\n",
    "def get_top_lookalikes(similarity_df, top_n=3):\n",
    "    lookalikes = {}\n",
    "    for customer_id in similarity_df.index:\n",
    "        # Get the similarity scores for the customer, sort by highest scores\n",
    "        similar_customers = similarity_df[customer_id].sort_values(ascending=False).head(top_n+1).iloc[1:]\n",
    "        lookalikes[customer_id] = [(customer, score) for customer, score in zip(similar_customers.index, similar_customers.values)]\n",
    "    return lookalikes\n",
    "\n",
    "# Get the top 3 lookalikes\n",
    "lookalikes = get_top_lookalikes(similarity_df)\n",
    "\n",
    "# Save the lookalike recommendations to a CSV file\n",
    "flattened_lookalikes = []\n",
    "for customer_id, recommendations in lookalikes.items():\n",
    "    for lookalike_customer, score in recommendations:\n",
    "        flattened_lookalikes.append([customer_id, lookalike_customer, score])\n",
    "\n",
    "# Convert the list into a DataFrame\n",
    "lookalikes_df = pd.DataFrame(flattened_lookalikes, columns=['CustomerID', 'Lookalike_CustomerID', 'Similarity_Score'])"
   ]
  },
  {
   "cell_type": "code",
   "execution_count": 6,
   "id": "7f5c491d-0c84-43b5-9c86-2a90f59f5b25",
   "metadata": {},
   "outputs": [
    {
     "data": {
      "text/html": [
       "<div>\n",
       "<style scoped>\n",
       "    .dataframe tbody tr th:only-of-type {\n",
       "        vertical-align: middle;\n",
       "    }\n",
       "\n",
       "    .dataframe tbody tr th {\n",
       "        vertical-align: top;\n",
       "    }\n",
       "\n",
       "    .dataframe thead th {\n",
       "        text-align: right;\n",
       "    }\n",
       "</style>\n",
       "<table border=\"1\" class=\"dataframe\">\n",
       "  <thead>\n",
       "    <tr style=\"text-align: right;\">\n",
       "      <th></th>\n",
       "      <th>CustomerID</th>\n",
       "      <th>Lookalike_CustomerID</th>\n",
       "      <th>Similarity_Score</th>\n",
       "    </tr>\n",
       "  </thead>\n",
       "  <tbody>\n",
       "    <tr>\n",
       "      <th>0</th>\n",
       "      <td>C0001</td>\n",
       "      <td>C0069</td>\n",
       "      <td>0.947427</td>\n",
       "    </tr>\n",
       "    <tr>\n",
       "      <th>1</th>\n",
       "      <td>C0001</td>\n",
       "      <td>C0127</td>\n",
       "      <td>0.896290</td>\n",
       "    </tr>\n",
       "    <tr>\n",
       "      <th>2</th>\n",
       "      <td>C0001</td>\n",
       "      <td>C0035</td>\n",
       "      <td>0.866625</td>\n",
       "    </tr>\n",
       "    <tr>\n",
       "      <th>3</th>\n",
       "      <td>C0002</td>\n",
       "      <td>C0133</td>\n",
       "      <td>0.966664</td>\n",
       "    </tr>\n",
       "    <tr>\n",
       "      <th>4</th>\n",
       "      <td>C0002</td>\n",
       "      <td>C0134</td>\n",
       "      <td>0.916734</td>\n",
       "    </tr>\n",
       "  </tbody>\n",
       "</table>\n",
       "</div>"
      ],
      "text/plain": [
       "  CustomerID Lookalike_CustomerID  Similarity_Score\n",
       "0      C0001                C0069          0.947427\n",
       "1      C0001                C0127          0.896290\n",
       "2      C0001                C0035          0.866625\n",
       "3      C0002                C0133          0.966664\n",
       "4      C0002                C0134          0.916734"
      ]
     },
     "execution_count": 6,
     "metadata": {},
     "output_type": "execute_result"
    }
   ],
   "source": [
    "lookalikes_df.head()"
   ]
  },
  {
   "cell_type": "code",
   "execution_count": 7,
   "id": "cb9005bf-6141-426f-bde2-fc9da591b406",
   "metadata": {},
   "outputs": [
    {
     "name": "stdout",
     "output_type": "stream",
     "text": [
      "Mean Similarity Score: 0.9150597783873168\n"
     ]
    }
   ],
   "source": [
    "mean_similarity_score = lookalikes_df['Similarity_Score'].mean()\n",
    "print(f'Mean Similarity Score: {mean_similarity_score}')"
   ]
  },
  {
   "cell_type": "code",
   "execution_count": 8,
   "id": "4c6502b5-485c-4e79-8748-8ea9d08f1cc2",
   "metadata": {},
   "outputs": [
    {
     "data": {
      "image/png": "[encoded data removed]",
      "text/plain": [
       "<Figure size 640x480 with 1 Axes>"
      ]
     },
     "metadata": {},
     "output_type": "display_data"
    }
   ],
   "source": [
    "import seaborn as sns\n",
    "import matplotlib.pyplot as plt\n",
    "\n",
    "# Plot the similarity score distribution\n",
    "sns.histplot(lookalikes_df['Similarity_Score'], bins=30, kde=True)\n",
    "plt.title('Similarity Score Distribution for Lookalikes')\n",
    "plt.xlabel('Similarity Score')\n",
    "plt.ylabel('Frequency')\n",
    "plt.show()\n"
   ]
  },
  {
   "cell_type": "code",
   "execution_count": 9,
   "id": "5fd1b176-1b84-4f53-9f99-e08db36a55dc",
   "metadata": {},
   "outputs": [],
   "source": [
    "# Save the reshaped data to a CSV file\n",
    "lookalikes_df.to_csv('Greeshma_Haridas_Lookalike.csv', index=False)"
   ]
  },
  {
   "cell_type": "code",
   "execution_count": null,
   "id": "f611afe8-badb-4fba-921c-d8127daaa26b",
   "metadata": {},
   "outputs": [],
   "source": []
  }
 ],
 "metadata": {
  "kernelspec": {
   "display_name": "Python 3 (ipykernel)",
   "language": "python",
   "name": "python3"
  },
  "language_info": {
   "codemirror_mode": {
    "name": "ipython",
    "version": 3
   },
   "file_extension": ".py",
   "mimetype": "text/x-python",
   "name": "python",
   "nbconvert_exporter": "python",
   "pygments_lexer": "ipython3",
   "version": "3.12.4"
  }
 },
 "nbformat": 4,
 "nbformat_minor": 5
}
